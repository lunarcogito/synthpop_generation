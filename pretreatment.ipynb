{
  "nbformat": 4,
  "nbformat_minor": 0,
  "metadata": {
    "colab": {
      "name": "pretreatment.ipynb",
      "provenance": [],
      "collapsed_sections": [],
      "include_colab_link": true
    },
    "kernelspec": {
      "name": "python3",
      "display_name": "Python 3"
    }
  },
  "cells": [
    {
      "cell_type": "markdown",
      "metadata": {
        "id": "view-in-github",
        "colab_type": "text"
      },
      "source": [
        "<a href=\"https://colab.research.google.com/github/lunarcogito/synthpop_gan/blob/master/pretreatment.ipynb\" target=\"_parent\"><img src=\"https://colab.research.google.com/assets/colab-badge.svg\" alt=\"Open In Colab\"/></a>"
      ]
    },
    {
      "cell_type": "code",
      "metadata": {
        "id": "Hmy3erUkohqh",
        "colab_type": "code",
        "colab": {}
      },
      "source": [
        "!pip install pypianoroll"
      ],
      "execution_count": 0,
      "outputs": []
    },
    {
      "cell_type": "code",
      "metadata": {
        "id": "WUGULkX3-FNx",
        "colab_type": "code",
        "colab": {}
      },
      "source": [
        "from google.colab import drive\n",
        "drive.mount('/content/drive')"
      ],
      "execution_count": 0,
      "outputs": []
    },
    {
      "cell_type": "code",
      "metadata": {
        "colab_type": "code",
        "id": "A8Zp7WZsOigP",
        "colab": {}
      },
      "source": [
        "from pypianoroll import Multitrack, Track\n",
        "import glob\n",
        "\n",
        "def main():\n",
        "  for filename in (glob.glob('drive/My Drive/Synth pop MIDI/*.mid')):\n",
        "      mtrack = Multitrack(filename)\n",
        "      l=len(mtrack.tracks)\n",
        "      trackid=[x for x in range(l)]\n",
        "      mtrack.to_pretty_midi()\n",
        "      orchestra = group_by_program(mtrack)\n",
        "      newmtrack = merge_instrument(mtrack,orchestra,trackid)\n",
        "      #newmtrack = remove_short_tracks(track,5)\n",
        "      #newmtrack.trim_trailing_silence()\n",
        "      #newmtrack.clip(lower=60, upper=120)\n",
        "      filename=filename[30:]\n",
        "      print(filename,orchestra)\n",
        "      newmtrack.write('drive/My Drive/Synth pop MIDI/result without drums/'+filename)\n",
        "\n",
        "def remove_short_tracks(mtrack,amount):\n",
        "  l=len(mtrack.tracks)\n",
        "  i=j=l-1\n",
        "  al=[]\n",
        "  if l>amount:\n",
        "      while j>=0:\n",
        "          al.append((mtrack.tracks[j]).get_active_length())\n",
        "          j-=1\n",
        "      al.sort()\n",
        "      a=[]\n",
        "      a.append(al[l-1])\n",
        "      while i>=0:\n",
        "          actl=(mtrack.tracks[i]).get_active_length()\n",
        "          apr=mtrack.tracks[i].get_active_pitch_range()\n",
        "          print(apr)\n",
        "          if actl<al[l-1]*0.4 or apr[1]<70:\n",
        "              a.append(i)\n",
        "          i-=1\n",
        "      mtrack.remove_tracks(a)\n",
        "  return mtrack\n",
        "    \n",
        "\n",
        "def group_by_program(mtrack):\n",
        "  orchestra=[[]for _ in range(16)]\n",
        "  trackcount=0\n",
        "  for track in mtrack.tracks:\n",
        "    if not track.is_drum:\n",
        "      i=track.program // 8\n",
        "      track.program=i*8\n",
        "      orchestra[i].append(trackcount)\n",
        "    trackcount+=1\n",
        "  return orchestra\n",
        "\n",
        "def merge_instrument(mtrack,orchestra,trackid):\n",
        "  instname=['piano','chromatic percussion','organ','guitar','bass','strings','ensemble','brass','reed','pipe','synth lead','synth pad','synth effects','ethnic','percussive','sound effects']\n",
        "  for p in range(0,16):\n",
        "    if orchestra[p]!=[]:\n",
        "      mtrack.merge_tracks(track_indices=orchestra[p], mode='sum', program=p, is_drum=False, name=instname[p], remove_merged=False)\n",
        "  mtrack.remove_tracks(trackid)\n",
        "  return mtrack\n",
        "\n",
        "if __name__ == \"__main__\":\n",
        "    main()"
      ],
      "execution_count": 0,
      "outputs": []
    }
  ]
}
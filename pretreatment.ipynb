{
  "nbformat": 4,
  "nbformat_minor": 0,
  "metadata": {
    "colab": {
      "name": "pretreatment.ipynb",
      "provenance": [],
      "collapsed_sections": [],
      "include_colab_link": true
    },
    "kernelspec": {
      "name": "python3",
      "display_name": "Python 3"
    }
  },
  "cells": [
    {
      "cell_type": "markdown",
      "metadata": {
        "id": "view-in-github",
        "colab_type": "text"
      },
      "source": [
        "<a href=\"https://colab.research.google.com/github/lunarcogito/synthpop_gan/blob/master/pretreatment.ipynb\" target=\"_parent\"><img src=\"https://colab.research.google.com/assets/colab-badge.svg\" alt=\"Open In Colab\"/></a>"
      ]
    },
    {
      "cell_type": "code",
      "metadata": {
        "id": "Hmy3erUkohqh",
        "colab_type": "code",
        "colab": {}
      },
      "source": [
        "!pip install pypianoroll"
      ],
      "execution_count": 0,
      "outputs": []
    },
    {
      "cell_type": "code",
      "metadata": {
        "id": "WUGULkX3-FNx",
        "colab_type": "code",
        "colab": {}
      },
      "source": [
        "from google.colab import drive\n",
        "drive.mount('/content/drive')"
      ],
      "execution_count": 0,
      "outputs": []
    },
    {
      "cell_type": "code",
      "metadata": {
        "colab_type": "code",
        "id": "A8Zp7WZsOigP",
        "colab": {}
      },
      "source": [
        "from pypianoroll import Multitrack, Track\n",
        "import glob\n",
        "\n",
        "def main():\n",
        "  c=0\n",
        "  for filename in (glob.glob('drive/My Drive/Synth pop MIDI/*.mid')):\n",
        "      mtrack = Multitrack(filename)\n",
        "      mtrack.to_pretty_midi()\n",
        "      #mtrack = remove_short_tracks(mtrack)\n",
        "      orchestra = group_by_program(mtrack)\n",
        "      l=len(mtrack.tracks)\n",
        "      trackid=[x for x in range(l)]\n",
        "      newmtrack, inst = merge_instrument(mtrack,orchestra,trackid)\n",
        "      filename=filename[30:]\n",
        "      if len(newmtrack.tracks)==4:\n",
        "        c+=1\n",
        "        print(filename, len(newmtrack.tracks), inst, orchestra)\n",
        "        newmtrack.write('drive/My Drive/Synth pop MIDI/four tracks with drum sum/'+filename)\n",
        "  print(c)\n",
        "\n",
        "def remove_short_tracks(mtrack):\n",
        "  l=len(mtrack.tracks)\n",
        "  i=j=l-1\n",
        "  al=[]\n",
        "  while j>=0:\n",
        "      al.append((mtrack.tracks[j]).get_active_length())\n",
        "      j-=1\n",
        "  al.sort()\n",
        "  a=[]\n",
        "  while i>=0:\n",
        "      actl=(mtrack.tracks[i]).get_active_length()\n",
        "      apr=mtrack.tracks[i].get_active_pitch_range()\n",
        "      if actl<al[l-1]*0.1 or apr[1]<50:\n",
        "          a.append(i)\n",
        "      i-=1\n",
        "  mtrack.remove_tracks(a)\n",
        "  return mtrack\n",
        "    \n",
        "\n",
        "def group_by_program(mtrack):\n",
        "  orchestra=[[]for _ in range(5)]\n",
        "  trackcount=0\n",
        "  for track in mtrack.tracks:\n",
        "    if track.program<90:\n",
        "      if not track.is_drum:\n",
        "        i=track.program // 25\n",
        "        orchestra[i].append(trackcount)\n",
        "      else:\n",
        "        orchestra[4].append(trackcount)\n",
        "    trackcount+=1\n",
        "  orchestra[2]=orchestra[2]+orchestra[3]\n",
        "  orchestra.remove(orchestra[3])\n",
        "  return orchestra\n",
        "\n",
        "def merge_instrument(mtrack,orchestra,trackid):\n",
        "  #instname=['piano','chromatic percussion','organ','guitar','bass','strings','ensemble','brass','reed','pipe','synth lead','synth pad','synth effects','ethnic','percussive','sound effects']\n",
        "  instname=['piano','guitar','synth lead','drum']\n",
        "  drums=[False,False,False,True]\n",
        "  programs=[5,28,81,0]\n",
        "  inst=[]\n",
        "  for p in range(0,4):\n",
        "    if orchestra[p]!=[]:\n",
        "      inst.append(instname[p])\n",
        "      mtrack.merge_tracks(track_indices=orchestra[p], mode='max', program=programs[p], is_drum=drums[p], name=instname[p], remove_merged=False)\n",
        "  mtrack.remove_tracks(trackid)\n",
        "  return mtrack, inst\n",
        "\n",
        "if __name__ == \"__main__\":\n",
        "    main()"
      ],
      "execution_count": 0,
      "outputs": []
    }
  ]
}